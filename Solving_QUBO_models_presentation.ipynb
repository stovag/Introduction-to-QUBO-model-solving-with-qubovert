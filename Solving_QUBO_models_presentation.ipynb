{
 "cells": [
  {
   "cell_type": "markdown",
   "metadata": {},
   "source": [
    "<p>\n",
    "<img src=\"index.png\" alt=\"Ionian University\">\n",
    "\n",
    "Ιόνιο Πανεπιστήμιο, Τμήμα Πληροφορικής\n",
    "</p>\n",
    "<p>\n",
    "    Ευάγγελος Στογιάννος, Π2018062\n",
    "</p>\n",
    "<p>\n",
    "    Εργασία για το μάθημα Μοντέλα Κβαντικού και Μοριακού Υπολογισμού, Ε' Εξάμηνο\n",
    "</p>"
   ]
  },
  {
   "cell_type": "markdown",
   "metadata": {},
   "source": [
    "<p>\n",
    "    <h4>Θέμα έργασίας: Εισαγωγή στη χρήση το Qubovert για λύση συστημάτων QUBO</h4>\n",
    "</p>\n",
    "<p>\n",
    "      \n",
    "</p>\n",
    "<p>\n",
    "    Το qubovert είναι ένα open source Python library για την εξομοίωση και λύση προβλημάτων σε μορφή boolean και spin.\n",
    "    Το github repository του βρίσκεται <a href=\"https://github.com/jtiosue/qubovert\">εδώ</a>\n",
    "</p>\n",
    "<p>\n",
    "     Η εισαγωγή αυτή θα καλύψει τη βασική χρήση του qubovert για την επίλυση qubo των οποίων γνωρίζουμε τη αναπαράστασή τους σε πίνακα, καθώς και μερικούς τρόπους για να δημιουργήσουμε δικά μας μοντέλα qubo από πολυωνυμικές συναρτήσεις pubo. Οι πληροφορίες προέρχονται από το <a href=\"https://github.com/jtiosue/qubovert/blob/master/notebook_examples/qubovert_tutorial.ipynb\">επίσημο tutorial για το qubovert</a>, και τα παραδείγματα των προβλημάτων από το: Fred Glover. A Tutorial on Formulating and Using QUBO Models, 2019\n",
    "</p>"
   ]
  },
  {
   "cell_type": "markdown",
   "metadata": {},
   "source": [
    "<style>\n",
    "code {\n",
    "  font-family: Consolas,\"courier new\";\n",
    "  color: crimson;\n",
    "  background-color: #f1f1f1;\n",
    "  padding: 2px;\n",
    "  font-size: 105%;\n",
    "}\n",
    "</style>\n",
    "<h4>Εγκατάσταση qubovert:</h4>\n",
    "<p> Εφόσον έχουμε εγκατεστημένη την Python3.6+, μπορούμε στο cmd (ή το terminal για linux) να τρέξουμε την εντολή</p>\n",
    "<code> pip install qubovert </code>\n",
    "<p>Aν χρησιμοποιούμε περιβάλλον anaconda τρέχουμε την ίδια εντολή στο Anaconda prompt</p>\n",
    "<p>Έπειτα μπορούμε να χρησιμοποιήσουμε το qubovert κάνοντας το import</p>"
   ]
  },
  {
   "cell_type": "code",
   "execution_count": 1,
   "metadata": {},
   "outputs": [],
   "source": [
    "import qubovert as qv"
   ]
  },
  {
   "cell_type": "code",
   "execution_count": 2,
   "metadata": {},
   "outputs": [],
   "source": [
    "Q = [[1, 0], \n",
    "     [-2, 3]]"
   ]
  },
  {
   "cell_type": "markdown",
   "metadata": {},
   "source": [
    "<p>Και ορίζει τη συνάρτηση: $$f(x) = x_0 -2x_0x_1 + x_1.$$</p>\n",
    "<p>Για να δημιουργήσουμε το qubo από τον πινακα χρησιμοποιούμε τη συναρτηση <code>qv.utils.matrix_to_qubo</code> </p>"
   ]
  },
  {
   "cell_type": "code",
   "execution_count": 3,
   "metadata": {},
   "outputs": [
    {
     "name": "stdout",
     "output_type": "stream",
     "text": [
      "{(0,): 1, (0, 1): -2, (1,): 3}\n"
     ]
    }
   ],
   "source": [
    "qubo = qv.utils.matrix_to_qubo(Q)\n",
    "print(qubo)"
   ]
  },
  {
   "cell_type": "markdown",
   "metadata": {},
   "source": [
    "<p>Το qubovert εμφανίζει το qubo ως dictionary, με τις τιμές των κλειδιών να είναι οι αντίστοιχες παράμετροι της μεταβλητής χ</p>\n",
    "<p>Για μια πιο μαθηματική και φιλική προς το χρήστη προυσίαση μπορούμε να χρησιμοποιήσουμε τη συναρτηση <code>qubovert.QUBO.pretty_str()</code>"
   ]
  },
  {
   "cell_type": "code",
   "execution_count": 4,
   "metadata": {},
   "outputs": [
    {
     "name": "stdout",
     "output_type": "stream",
     "text": [
      "x(0) - 2 x(0) x(1) + 3 x(1)\n"
     ]
    }
   ],
   "source": [
    "print(qubo.pretty_str())"
   ]
  },
  {
   "cell_type": "markdown",
   "metadata": {},
   "source": [
    "<h4>Παράδειγμα 1. Λύση Πίνακα qubo μέσω του D-Wave's simulated annealer</h4>\n",
    "<p> Για να λύσουμε ένα qubo με τον πίνακα Q με τον simulated annealer της D-wave αρχικά εγκαθηστούμε το πακέτο του, με την εντολή</p>\n",
    "<code>pip install dwave-neal</code>\n",
    "<p>Και στη συνέχεια το κάνουμε import</p>"
   ]
  },
  {
   "cell_type": "code",
   "execution_count": 5,
   "metadata": {},
   "outputs": [],
   "source": [
    "from neal import SimulatedAnnealingSampler as SAS"
   ]
  },
  {
   "cell_type": "code",
   "execution_count": 6,
   "metadata": {},
   "outputs": [
    {
     "name": "stdout",
     "output_type": "stream",
     "text": [
      "dwave_solution : {0: 0, 1: 1, 2: 1, 3: 0, 4: 1, 5: 0, 6: 1, 7: 0}\n",
      "Resulting F value: -6889.0\n",
      "Bruteforce solution: {0: 0, 1: 0, 2: 0, 3: 1, 4: 1, 5: 0, 6: 0, 7: 1}\n",
      "F:  -3525 x(0) + 350 x(0) x(1) + 650 x(0) x(2) + 1550 x(0) x(3) + 2100 x(0) x(4) + 850 x(0) x(5) + 1050 x(0) x(6) + 500 x(0) x(7) - 1113 x(1) + 182 x(1) x(2) + 434 x(1) x(3) + 588 x(1) x(4) + 238 x(1) x(5) + 294 x(1) x(6) + 140 x(1) x(7) - 1989 x(2) + 806 x(2) x(3) + 1092 x(2) x(4) + 442 x(2) x(5) + 546 x(2) x(6) + 260 x(2) x(7) - 4185 x(3) + 2604 x(3) x(4) + 1054 x(3) x(5) + 1302 x(3) x(6) + 620 x(3) x(7) - 5208 x(4) + 1428 x(4) x(5) + 1764 x(4) x(6) + 840 x(4) x(7) - 2533 x(5) + 714 x(5) x(6) + 340 x(5) x(7) - 3045 x(6) + 420 x(6) x(7) - 1560 x(7)\n"
     ]
    }
   ],
   "source": [
    "Q = [[-3525, 175, 325, 775, 1050, 425, 525, 250], # Δημιουργία του πίνακα που θέλουμε να λύσουμε\n",
    "    [175, -1113, 91, 217, 294, 119, 147, 70],\n",
    "    [325, 91, -1989, 403, 546, 221, 273, 130],\n",
    "    [775, 217, 403, -4185, 1302,527, 651, 310],\n",
    "    [1050, 294, 546, 1302, -5208, 714, 882, 420],\n",
    "    [425, 119, 221, 527, 714, -2533, 357, 170],\n",
    "    [525, 147, 273, 651, 882, 357, -3045, 210],\n",
    "    [250, 70, 130, 310, 420, 170, 210, -1560]]\n",
    "\n",
    "qubo = qv.utils.matrix_to_qubo(Q) # Δημιουργία του μοντέλου qubo από τον πίνακα\n",
    "\n",
    "res = SAS().sample_qubo(qubo.Q, num_reads=1000) # Προσομοίωση του D-Wave annealer μέσω της βιβλιοθήκης της D-Wave\n",
    "# Σημείωση ο annealer επιστρέφει την τιμή που εμφανίστηκε πιο συχνά στην προσομοίωση\n",
    "dwave_solution = res.first.sample # Λαμβάνουμε τη πιο συχνά εμφανιζόμενη τιμή\n",
    "value = res.first.energy + qubo.offset # Προσθέτουμε τη σταθερή τιμή\n",
    "\n",
    "# Εμφάνιση των αποτελεσμάτων\n",
    "print(\"dwave_solution :\", dwave_solution)\n",
    "print(\"Resulting F value:\", value)\n",
    "print(\"Bruteforce solution:\",qubo.solve_bruteforce())\n",
    "print(\"F: \", qubo.pretty_str())"
   ]
  },
  {
   "cell_type": "markdown",
   "metadata": {},
   "source": [
    "<p>Παρακάτω βλέπουμε τα αποτελέσματα από τις προσομοιώσεις του annealer</p>"
   ]
  },
  {
   "cell_type": "code",
   "execution_count": 7,
   "metadata": {},
   "outputs": [
    {
     "data": {
      "text/plain": [
       "<Figure size 640x480 with 1 Axes>"
      ]
     },
     "metadata": {},
     "output_type": "display_data"
    }
   ],
   "source": [
    "from matplotlib import pyplot as plt\n",
    "import pandas as pd\n",
    "\n",
    "df = res.to_pandas_dataframe();\n",
    "plt.hist([df[\"energy\"]])\n",
    "plt.xlabel(\"$F$\", color = \"#ffffff\")\n",
    "plt.ylabel(\"counts\", color = \"#ffffff\")\n",
    "plt.title(\"Values of $F$ sampled\", color = \"#ffffff\")\n",
    "plt.show()"
   ]
  },
  {
   "cell_type": "markdown",
   "metadata": {},
   "source": [
    "<p>Παραθέτω μία πολύ απλή συνάρτηση για βασική μετατροπή ενός πίνακα σε Qubo, που εμφανίζει τα αποτελέσματα, καθώς και ένα γράφημα όπως το παραπάνω για τις τιμές που εμφανίστηκαν</p>"
   ]
  },
  {
   "cell_type": "code",
   "execution_count": 8,
   "metadata": {},
   "outputs": [],
   "source": [
    "def qubo_details(Q, verbose = False, graph = True):\n",
    "    \"\"\" Print the d-wave solution of the qubo matrix created by the Q marrix.\n",
    "    \n",
    "        Keyword arguments:\n",
    "        Q -- list of lists\n",
    "        verbose == Boolean (Default False)\n",
    "        graph -- Boolean (Default True) \"\"\"\n",
    "    qubo = qv.utils.matrix_to_qubo(Q)\n",
    "    \n",
    "    res = SAS().sample_qubo(qubo.Q, num_reads=1000) # Create sampler object\n",
    "    dwave_solution = res.first.sample\n",
    "    value = res.first.energy + qubo.offset\n",
    "    \n",
    "    print(\"dwave_solution :\", dwave_solution)\n",
    "    print(\"Resulting F value:\", value)\n",
    "\n",
    "    \n",
    "    if verbose:\n",
    "        print(\"F: \", qubo.pretty_str())\n",
    "    if graph:\n",
    "        df = res.to_pandas_dataframe();\n",
    "        plt.hist([df[\"energy\"]])\n",
    "        plt.xlabel(\"$F$\")\n",
    "        plt.ylabel(\"counts\")\n",
    "        plt.title(\"Values of $F$ sampled\")\n",
    "        plt.show()"
   ]
  },
  {
   "cell_type": "markdown",
   "metadata": {},
   "source": [
    "<h4>Παράδειγμα 2. Δημιουργία qubo από PUBO</h4>\n",
    "<p> Έστω η συνάρτηση $$F(x, y) = \\left(N - \\left(2+\\sum_{i=0}^n 2^i x_i\\right)\\left(2+\\sum_{i=0}^n 2^i y_i\\right) \\right)^2,$$ με Ν = 9. Για να τη μετατρέψουμε σε μορφή qubo πρέπει πρώτα να δημιουργήσουμε 2 pubos, με το καθένα να αντιστοιχεί στο αλγεβρικό άθροισμα της κάθε μεταβλητής. Στη συνέχεια δημιουργούμε την μεταβλητή F, που αναπαριστά την αρχική συνάρτηση.</p>"
   ]
  },
  {
   "cell_type": "code",
   "execution_count": 9,
   "metadata": {},
   "outputs": [
    {
     "name": "stdout",
     "output_type": "stream",
     "text": [
      "F: 20 x(y1) x(x0) x(y0) + 40 x(y2) x(x0) x(y0) + 20 x(x0) x(x1) x(y0) + 16 x(y1) x(x0) x(x1) x(y0) + 32 x(y2) x(x0) x(x1) x(y0) + 40 x(x0) x(y0) x(x2) + 32 x(y1) x(x0) x(y0) x(x2) + 64 x(y2) x(x0) x(y0) x(x2) + 24 x(y1) x(x0) + 80 x(y2) x(y1) x(x0) + 48 x(y1) x(x0) x(x1) + 64 x(y2) x(y1) x(x0) x(x1) + 96 x(y1) x(x0) x(x2) + 128 x(y2) x(y1) x(x0) x(x2) + 88 x(y2) x(x0) + 128 x(y2) x(x0) x(x1) + 256 x(y2) x(x0) x(x2) + 7 x(x0) x(y0) - 16 x(x0) + 16 x(x0) x(x1) + 32 x(x0) x(x2) + 24 x(x1) x(y0) + 48 x(y1) x(x1) x(y0) + 96 x(y2) x(x1) x(y0) + 80 x(x1) x(y0) x(x2) + 64 x(y1) x(x1) x(y0) x(x2) + 128 x(y2) x(x1) x(y0) x(x2) + 72 x(y1) x(x1) + 192 x(y2) x(y1) x(x1) + 192 x(y1) x(x1) x(x2) + 256 x(y2) x(y1) x(x1) x(x2) + 240 x(y2) x(x1) + 512 x(y2) x(x1) x(x2) - 24 x(x1) + 64 x(x1) x(x2) + 88 x(y0) x(x2) + 128 x(y1) x(y0) x(x2) + 256 x(y2) x(y0) x(x2) + 240 x(y1) x(x2) + 512 x(y2) x(y1) x(x2) + 736 x(y2) x(x2) - 16 x(x2) - 16 x(y0) + 16 x(y1) x(y0) + 32 x(y2) x(y0) - 24 x(y1) + 64 x(y2) x(y1) - 16 x(y2) + 25 \n",
      "\n",
      "D-wave dolution:    state: {0: 1, 1: 1, 2: 0, 3: 0, 4: 0, 5: 0, 6: 1, 7: 0, 8: 0, 9: 0, 10: 0, 11: 0, 12: 0}\n",
      "  value: 0\n",
      "   spin: False \n",
      "\n",
      "F_solution = {'x0': 1, 'y0': 1, 'y1': 0, 'y2': 0, 'x1': 0, 'x2': 0}\n",
      "x = 3\n",
      "y = 3\n",
      "F(x, y) = 0\n"
     ]
    }
   ],
   "source": [
    "N = 9\n",
    "n = qv.utils.num_bits(N // 2)\n",
    "\n",
    "# Δημιουργούμε τη συνάρτηση F ως το τετράγωνο του γινομένου των PUBO χ και y\n",
    "x = 2 + qv.PUBO({('x%d' % i,): 2**i for i in range(n)})\n",
    "y = 2 + qv.PUBO({('y%d' % i,): 2**i for i in range(n)})\n",
    "F = (N - x * y) ** 2\n",
    "print(\"F:\", F.pretty_str(),\"\\n\")\n",
    "\n",
    "# Δημιουργία qubo από την F\n",
    "qubo_F = F.to_qubo()\n",
    "\n",
    "# Λύση του qubo χρησιμοποιώντας το D-Wave's Simulated Annealer\n",
    "res = qv.sim.anneal_qubo(qubo_F, num_anneals=1000)\n",
    "print(\"D-wave dolution: \", res.best,\"\\n\")\n",
    "\n",
    "# Εφαρμογή της λύσης της F στις αρχικές μεταβλητές\n",
    "F_solution = F.convert_solution(res.best.state)\n",
    "\n",
    "print(\"F_solution =\", F_solution)\n",
    "print(\"x =\", x.value(F_solution))\n",
    "print(\"y =\", y.value(F_solution))\n",
    "print(\"F(x, y) =\", F.value(F_solution))"
   ]
  },
  {
   "cell_type": "markdown",
   "metadata": {},
   "source": [
    "<p>Τα παραδείγματα αυτά είναι παρουσιάζουν λίγες μόνο από τις λειτουργίες του qubovert, ενώ υπάρχουν ακόμα πολλές, όπως η εφαρμογή constaraints και η επεργασία PUBO, PCBO και QCBO τις οποίες επεξηγει το προανεφερθέν tutorial αυτού, το οποιο συνηστώ ανεπιφύλακτα σε όποιον ενδιαφέρται να ασχοληθεί με το qubovert.</p>"
   ]
  }
 ],
 "metadata": {
  "kernelspec": {
   "display_name": "Python 3",
   "language": "python",
   "name": "python3"
  },
  "language_info": {
   "codemirror_mode": {
    "name": "ipython",
    "version": 3
   },
   "file_extension": ".py",
   "mimetype": "text/x-python",
   "name": "python",
   "nbconvert_exporter": "python",
   "pygments_lexer": "ipython3",
   "version": "3.7.4"
  }
 },
 "nbformat": 4,
 "nbformat_minor": 2
}
